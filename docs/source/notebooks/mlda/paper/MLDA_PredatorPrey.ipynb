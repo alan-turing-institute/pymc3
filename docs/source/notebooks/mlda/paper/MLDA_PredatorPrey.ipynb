{
 "cells": [
  {
   "cell_type": "code",
   "execution_count": 2,
   "metadata": {},
   "outputs": [],
   "source": [
    "import matplotlib.pyplot as plt\n",
    "import numpy as np\n",
    "import pymc3 as pm\n",
    "\n",
    "from scipy.integrate import odeint # Used to Integrate System of Differential Equations\n",
    "\n"
   ]
  },
  {
   "cell_type": "code",
   "execution_count": null,
   "metadata": {},
   "outputs": [],
   "source": []
  },
  {
   "cell_type": "code",
   "execution_count": 66,
   "metadata": {},
   "outputs": [],
   "source": [
    "# Definition of parameters\n",
    "a = 1.0\n",
    "b = 0.1\n",
    "c = 1.5\n",
    "d = 0.75\n",
    "\n",
    "# initial population of rabbits and foxes\n",
    "X0 = [10.0, 5.0]\n",
    "# size of data\n",
    "size = 100\n",
    "# time lapse\n",
    "time = 15\n",
    "t = np.linspace(0, time, size)\n",
    "\n",
    "\n",
    "class LotkaVolterra:\n",
    "    \n",
    "    \n",
    "    def __init__(self):\n",
    "        \n",
    "        self.numLevels = 3\n",
    "        \n",
    "        # True Parameters \n",
    "        \n",
    "        self.trueParameters = [1.0, 0.1, 1.5, 0.75, 10.0, 5.0]\n",
    "        \n",
    "        self.dataSize = 100\n",
    "        \n",
    "        self.time = [1., 5., 10.]\n",
    "        \n",
    "        self.ti = np.linspace(0.0, self.time[-1], self.dataSize)\n",
    "        \n",
    "        self.t = []\n",
    "        \n",
    "        self.ids = []\n",
    "        \n",
    "        for i in range(self.numLevels):\n",
    "            self.ids.append(np.argwhere(self.ti <= self.time[i]))\n",
    "            self.t.append(self.ti[self.ids[i]])\n",
    "            \n",
    "        self.rtol = [0.1, 0.01, 0.001]\n",
    "        \n",
    "        \n",
    "        \n",
    "    def dX_dt(self,X, t, a, b, c, d):\n",
    "        \n",
    "        \"\"\" \n",
    "        Lotka Volterra Equations\n",
    "        Given Parameters Returns the growth rate of fox and rabbit populations. \n",
    "        \"\"\"\n",
    "\n",
    "        return np.array([a * X[0] - b * X[0] * X[1], -c * X[1] + d * b * X[0] * X[1]])\n",
    "    \n",
    "    def evaluate(self, param, level = -1, noise = False):\n",
    "        # simulator function\n",
    "        X0 = [param[4], param[5]]\n",
    "        print(self.t[level].shape)\n",
    "        X = odeint(self.dX_dt, y0=X0, t=self.t[level].flatten(), rtol=self.rtol[level], args=(param[0], param[1], param[2], param[3]))\n",
    "        if(noise):\n",
    "            np.random.seed(123)\n",
    "            X += np.random.normal(size=(self.t[level].shape[0], 2))\n",
    "        return X\n",
    "    \n",
    "            \n"
   ]
  },
  {
   "cell_type": "code",
   "execution_count": null,
   "metadata": {},
   "outputs": [],
   "source": []
  },
  {
   "cell_type": "code",
   "execution_count": 67,
   "metadata": {},
   "outputs": [],
   "source": [
    "myModel = LotkaVolterra()"
   ]
  },
  {
   "cell_type": "code",
   "execution_count": 68,
   "metadata": {},
   "outputs": [],
   "source": [
    "l = 1\n",
    "maxLevel = 3"
   ]
  },
  {
   "cell_type": "code",
   "execution_count": 69,
   "metadata": {},
   "outputs": [
    {
     "name": "stdout",
     "output_type": "stream",
     "text": [
      "(100, 1)\n"
     ]
    }
   ],
   "source": [
    "observed = myModel.evaluate(myModel.trueParameters, noise = True)\n",
    "\n",
    "data = []\n",
    "\n",
    "for i in range(maxLevel):\n",
    "    data.append(observed[myModel.ids[i]][:])\n",
    "\n"
   ]
  },
  {
   "cell_type": "code",
   "execution_count": 83,
   "metadata": {},
   "outputs": [
    {
     "data": {
      "image/png": "[encoded data removed]",
      "text/plain": [
       "<Figure size 432x288 with 1 Axes>"
      ]
     },
     "metadata": {
      "needs_background": "light"
     },
     "output_type": "display_data"
    }
   ],
   "source": [
    "# plotting observed data.\n",
    "_, ax = plt.subplots(figsize=(6, 4))\n",
    "ax.plot(myModel.t[-1],observed[:, 0], \"o\", alpha = 0.4, label=\"Prey\")\n",
    "ax.plot(myModel.t[-1],observed[:, 1], \"o\", alpha = 0.4, label=\"Predators\")\n",
    "ax.set_xlabel(\"Time\")\n",
    "ax.set_ylabel(\"Population\")\n",
    "ax.set_xticks([0., 2., 4., 6., 8., 10.])\n",
    "ax.set_yticks([0., 5., 10., 15., 20., 25., 30., 35., 40., 45.])\n",
    "ax.set_xlim([0., 10.])\n",
    "ax.legend();\n",
    "\n",
    "plt.savefig(\"PredatorPrey_data.pdf\")"
   ]
  },
  {
   "cell_type": "code",
   "execution_count": null,
   "metadata": {},
   "outputs": [],
   "source": []
  }
 ],
 "metadata": {
  "kernelspec": {
   "display_name": "Python 3",
   "language": "python",
   "name": "python3"
  },
  "language_info": {
   "codemirror_mode": {
    "name": "ipython",
    "version": 3
   },
   "file_extension": ".py",
   "mimetype": "text/x-python",
   "name": "python",
   "nbconvert_exporter": "python",
   "pygments_lexer": "ipython3",
   "version": "3.8.2"
  }
 },
 "nbformat": 4,
 "nbformat_minor": 4
}
